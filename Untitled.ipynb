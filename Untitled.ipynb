{
 "cells": [
  {
   "cell_type": "code",
   "execution_count": 1,
   "metadata": {},
   "outputs": [
    {
     "name": "stdout",
     "output_type": "stream",
     "text": [
      ".....Loading model.....\n",
      "...Loading Images...\n"
     ]
    }
   ],
   "source": [
    "import torch\n",
    "import torch.nn as nn\n",
    "import torch.optim as optim\n",
    "from torch.autograd import Variable\n",
    "from torchvision import datasets,models,transforms\n",
    "import os\n",
    "from skimage import io \n",
    "from vismask import vismask \n",
    "\n",
    "outputimages = \"outputimages/img\"\n",
    "inputimages = \"inputimages/\"\n",
    "imgExt = \"JPEG\"\n",
    "\n",
    "imagenames = [fn for fn in os.listdir(inputimages) if fn.endswith(imgExt)]\n",
    "\n",
    "#Taking batches of 10 images of size 224x224\n",
    "imgCnt = 10\n",
    "imgCh = 3\n",
    "imgH = 224\n",
    "imgW = 224\n",
    "\n",
    "#Scaling and normalizing the images to required sizes (mean and std deviation are values required by trained VGG model)\n",
    "trans = transforms.Compose([transforms.ToPILImage(),\n",
    "\t\t\t\t\t\t\ttransforms.Scale(256),\n",
    "\t\t\t\t\t\t\ttransforms.CenterCrop(224),\n",
    "\t\t\t\t\t\t\ttransforms.ToTensor(),\n",
    "                            transforms.Normalize([0.485, 0.456, 0.406], [0.229, 0.224, 0.225])])\n",
    "\n",
    "# imgBatch = torch.Tensor(imgCnt, imgCh, imgH, imgW).cuda()\n",
    "imgBatch = torch.Tensor(imgCnt, imgCh, imgH, imgW)\n",
    "\n",
    "#------------------------------------------------------------------------------------\n",
    "def getimages(n, out,fmaps,fmapsmasked):\n",
    "\n",
    "    h = out.size(2)\n",
    "    w = out.size(3)\n",
    "\n",
    "    scalingtr = nn.UpsamplingBilinear2d(size=(h,w))\n",
    "\n",
    "    imgout = torch.Tensor(3, imgH,imgW)\n",
    "\n",
    "    #placing all intermediate maps and masks in one big array\n",
    "    fMapsImg = torch.zeros(1,len(fmaps) * h + (len(fmaps) - 1) * 2, w)\n",
    "    fMapsImgM = torch.zeros(1,len(fmaps) * h + (len(fmaps) - 1) * 2, w)\n",
    "\n",
    "    for i in range(0,len(fmaps)):\n",
    "\n",
    "        #normalization\n",
    "        minvalue = fmaps[i][n,0].min()\n",
    "        maxvalue = fmaps[i][n,0].max()\n",
    "        fmaps[i][n] = torch.add(fmaps[i][n],-minvalue)\n",
    "        fmaps[i][n] = torch.div(fmaps[i][n],(maxvalue-minvalue))\n",
    "\n",
    "        #normalization\n",
    "        minvalue = fmapsmasked[i][n,0].min()\n",
    "        maxvalue = fmapsmasked[i][n,0].max()\n",
    "        fmapsmasked[i][n] = torch.add(fmapsmasked[i][n],-minvalue)\n",
    "        fmapsmasked[i][n] = torch.div(fmapsmasked[i][n],(maxvalue-minvalue))\n",
    "        \n",
    "        #saving the normalized map and mask\n",
    "        fMapsImg.narrow(1,(i)*(h+2),w).copy_(scalingtr(Variable(fmaps[i].float())).data[n])\n",
    "        fMapsImgM.narrow(1,(i)*(h+2),w).copy_(scalingtr(Variable(fmapsmasked[i].float())).data[n])\n",
    "\n",
    "    imgout[0].copy_(imgBatch[n][0].data).add(out[n][0])\n",
    "    imgout[1].copy_(imgBatch[n][0].data).add(-out[n][0])\n",
    "    imgout[2].copy_(imgBatch[n][0].data).add(-out[n][0])\n",
    "    imgout.clamp(0,1)\n",
    "    \n",
    "    return imgout,fMapsImg,fMapsImgM\n",
    "\n",
    "#------------------------------------------------------------------------------------\n",
    "\n",
    "\n",
    "print (\".....Loading model.....\")\n",
    "# model = torch.load('model.pth')\n",
    "model = models.vgg16(pretrained=True)\n",
    "\n",
    "print (\"...Loading Images...\")\n",
    "\n",
    "for i in range (0,10):\n",
    "\timgBatch[i,:,:,:] = trans(io.imread(os.path.join(inputimages,imagenames[i])))\n",
    "\n",
    "imgBatch = Variable(imgBatch, volatile = True)\n",
    "\n",
    "#Obtain visualization mask"
   ]
  },
  {
   "cell_type": "code",
   "execution_count": 6,
   "metadata": {},
   "outputs": [
    {
     "data": {
      "text/plain": [
       "Parameter containing:\n",
       "( 0 , 0 ,.,.) = \n",
       "  2.7768e-02  1.5296e-02  2.1911e-02\n",
       "  2.5202e-02  2.3223e-02  2.0005e-02\n",
       "  3.0154e-02  8.7023e-03  1.7728e-02\n",
       "\n",
       "( 0 , 1 ,.,.) = \n",
       " -1.0682e-02 -9.5476e-03 -9.1195e-03\n",
       " -3.5036e-03 -1.2508e-02 -1.4557e-02\n",
       " -1.3689e-02 -1.8028e-02 -2.1646e-02\n",
       "\n",
       "( 0 , 2 ,.,.) = \n",
       " -8.5565e-03 -7.2054e-03 -6.3846e-03\n",
       "  2.0408e-03 -2.1947e-03 -6.8919e-04\n",
       " -1.6638e-03 -9.0286e-04  4.9448e-04\n",
       "    ... \n",
       "\n",
       "( 0 ,509,.,.) = \n",
       " -3.4711e-03  3.3385e-03  2.6684e-03\n",
       " -9.6592e-03 -1.1543e-02 -8.2975e-03\n",
       "  3.4230e-03  5.5182e-03  1.2600e-02\n",
       "\n",
       "( 0 ,510,.,.) = \n",
       " -6.8517e-03 -4.8486e-03 -8.5124e-03\n",
       "  1.0570e-03  1.1698e-02 -1.0812e-03\n",
       "  6.2322e-03  7.0932e-04 -1.5733e-03\n",
       "\n",
       "( 0 ,511,.,.) = \n",
       " -2.1647e-02  2.5883e-03  1.1418e-02\n",
       " -2.7891e-02  1.8448e-03  1.1855e-02\n",
       " -1.2538e-02 -1.8912e-03  9.2639e-03\n",
       "      ⋮  \n",
       "\n",
       "( 1 , 0 ,.,.) = \n",
       " -1.1915e-02 -2.5141e-02 -5.7179e-03\n",
       " -1.0882e-02 -2.0027e-02 -1.1911e-02\n",
       " -1.1790e-02 -2.5523e-03 -9.7380e-03\n",
       "\n",
       "( 1 , 1 ,.,.) = \n",
       "  4.7855e-03  1.2190e-02  2.7961e-03\n",
       "  1.0504e-03  1.1996e-02  4.9763e-03\n",
       " -8.5489e-03  7.1493e-03 -1.0951e-03\n",
       "\n",
       "( 1 , 2 ,.,.) = \n",
       "  2.2856e-02 -2.7013e-04 -1.2531e-02\n",
       "  2.3324e-02 -4.0162e-03 -6.5110e-03\n",
       "  2.1377e-02 -8.4313e-03 -1.5131e-02\n",
       "    ... \n",
       "\n",
       "( 1 ,509,.,.) = \n",
       " -1.5753e-03 -9.9031e-03 -8.8476e-03\n",
       " -5.7730e-03 -5.1446e-04 -7.1723e-03\n",
       " -2.2436e-02 -9.8933e-03 -1.9306e-02\n",
       "\n",
       "( 1 ,510,.,.) = \n",
       "  2.5404e-03  8.9606e-03 -5.4400e-03\n",
       "  1.3366e-02  2.0605e-02  6.6010e-03\n",
       "  1.8054e-02  3.1267e-02  2.4730e-02\n",
       "\n",
       "( 1 ,511,.,.) = \n",
       " -1.4774e-03  1.2404e-02  8.4087e-03\n",
       "  1.2018e-02  1.7658e-02  1.7988e-02\n",
       " -3.6130e-04  1.8112e-02  1.8274e-02\n",
       "      ⋮  \n",
       "\n",
       "( 2 , 0 ,.,.) = \n",
       " -9.2360e-03  7.4191e-04  2.9408e-03\n",
       "  2.4742e-03 -4.0349e-03 -2.9401e-03\n",
       " -1.5432e-03 -5.3605e-03 -5.8344e-03\n",
       "\n",
       "( 2 , 1 ,.,.) = \n",
       " -1.3595e-02 -3.1718e-02 -2.3710e-02\n",
       " -2.1746e-02 -2.5402e-02 -2.3455e-02\n",
       " -1.5045e-02 -3.1418e-02 -2.8699e-02\n",
       "\n",
       "( 2 , 2 ,.,.) = \n",
       "  3.2991e-03 -4.9208e-03  1.4358e-03\n",
       " -7.7625e-04  6.4103e-03  3.9225e-03\n",
       "  1.0592e-02  5.9198e-03  1.5063e-02\n",
       "    ... \n",
       "\n",
       "( 2 ,509,.,.) = \n",
       " -4.8337e-03 -1.5062e-02 -1.1133e-02\n",
       "  4.8897e-03  3.7414e-03 -6.6763e-03\n",
       "  1.0834e-02  1.6787e-02  6.9389e-03\n",
       "\n",
       "( 2 ,510,.,.) = \n",
       " -2.0545e-02 -2.2203e-02 -1.7161e-02\n",
       " -2.5112e-02 -3.0551e-02 -1.5765e-02\n",
       " -2.4664e-02 -2.2903e-02 -5.8698e-03\n",
       "\n",
       "( 2 ,511,.,.) = \n",
       " -3.2173e-02 -2.9189e-02 -8.3404e-03\n",
       " -2.5504e-02 -1.6742e-02  1.7872e-03\n",
       " -3.1295e-02 -1.2420e-02  1.1523e-02\n",
       "...     \n",
       "      ⋮  \n",
       "\n",
       "(509, 0 ,.,.) = \n",
       " -1.9429e-02 -2.4556e-02 -1.7622e-02\n",
       " -3.5300e-02 -3.0947e-02 -2.4672e-02\n",
       " -2.4305e-02 -2.5179e-02 -7.1441e-03\n",
       "\n",
       "(509, 1 ,.,.) = \n",
       "  2.9619e-02  1.2602e-02 -1.9829e-02\n",
       "  9.1760e-03 -8.5109e-04 -3.0802e-02\n",
       " -2.7310e-03 -1.7747e-02 -3.2944e-02\n",
       "\n",
       "(509, 2 ,.,.) = \n",
       " -3.7120e-03 -1.0129e-02  1.1997e-02\n",
       " -5.0915e-03 -1.4651e-02  1.0667e-02\n",
       " -4.8322e-03 -9.9947e-03  1.8547e-03\n",
       "    ... \n",
       "\n",
       "(509,509,.,.) = \n",
       " -1.4648e-02 -1.5231e-02  1.0567e-03\n",
       " -8.6118e-03 -3.1389e-02 -1.3612e-02\n",
       " -1.7457e-02 -1.7559e-02 -1.1778e-02\n",
       "\n",
       "(509,510,.,.) = \n",
       " -1.4624e-02 -8.1732e-03 -2.6069e-03\n",
       " -1.8911e-02 -2.5938e-02 -1.7402e-02\n",
       " -3.9192e-03 -1.7547e-02 -2.6254e-02\n",
       "\n",
       "(509,511,.,.) = \n",
       " -5.1161e-02 -1.9841e-02  1.4722e-02\n",
       " -4.5486e-02 -1.1310e-02  1.3356e-02\n",
       " -5.4183e-02 -2.0307e-02 -2.4845e-03\n",
       "      ⋮  \n",
       "\n",
       "(510, 0 ,.,.) = \n",
       " -4.0532e-03 -1.0636e-02  7.1217e-04\n",
       "  1.4047e-02  1.0330e-02  1.1886e-02\n",
       "  1.9057e-02  7.6312e-03  1.1955e-02\n",
       "\n",
       "(510, 1 ,.,.) = \n",
       " -5.0939e-04  2.6748e-03  3.8110e-03\n",
       " -1.6356e-02 -2.5871e-03 -9.2277e-03\n",
       " -5.9132e-03 -3.3246e-03 -2.0477e-02\n",
       "\n",
       "(510, 2 ,.,.) = \n",
       "  1.0108e-03  1.5062e-02  2.3413e-02\n",
       "  4.2264e-05  6.6031e-03  3.2643e-02\n",
       " -2.8598e-03  4.1518e-03  2.0333e-02\n",
       "    ... \n",
       "\n",
       "(510,509,.,.) = \n",
       "  5.1414e-03 -6.4583e-03 -1.4588e-02\n",
       " -1.0115e-02 -1.0200e-02 -2.1285e-02\n",
       " -6.3856e-03 -7.5624e-03 -2.0476e-02\n",
       "\n",
       "(510,510,.,.) = \n",
       " -1.0839e-02  6.7214e-03  5.8918e-03\n",
       " -9.5600e-04  1.6651e-03  7.1670e-03\n",
       " -1.8902e-02 -7.4955e-03 -9.8708e-04\n",
       "\n",
       "(510,511,.,.) = \n",
       " -4.4182e-02 -2.7011e-02 -1.5440e-02\n",
       " -4.1249e-02 -2.9579e-02 -1.0295e-02\n",
       " -1.9288e-02 -9.9171e-03  5.1636e-03\n",
       "      ⋮  \n",
       "\n",
       "(511, 0 ,.,.) = \n",
       " -2.9454e-02 -2.0776e-02 -1.4369e-02\n",
       " -8.1482e-03 -1.6480e-02 -1.4024e-02\n",
       " -8.4481e-03 -2.4206e-02 -1.5236e-02\n",
       "\n",
       "(511, 1 ,.,.) = \n",
       "  5.7170e-03  1.4719e-02  8.7575e-03\n",
       "  7.4073e-03 -8.5165e-03 -1.1737e-02\n",
       " -2.1247e-03 -1.4506e-02 -1.4657e-02\n",
       "\n",
       "(511, 2 ,.,.) = \n",
       "  3.0560e-02  4.0275e-02  5.0865e-02\n",
       " -2.9477e-03  2.0548e-02  4.3352e-02\n",
       " -1.6921e-02  4.7982e-03  2.1169e-02\n",
       "    ... \n",
       "\n",
       "(511,509,.,.) = \n",
       " -1.9884e-02 -2.8676e-02 -1.7745e-02\n",
       " -1.8820e-02 -2.7692e-02 -3.7976e-02\n",
       " -7.1567e-03 -1.6576e-02 -6.9290e-03\n",
       "\n",
       "(511,510,.,.) = \n",
       " -3.3155e-03 -8.4667e-03  4.0157e-03\n",
       "  1.9905e-02 -1.0356e-02 -4.5904e-04\n",
       "  3.1526e-02  1.0053e-02  1.1222e-02\n",
       "\n",
       "(511,511,.,.) = \n",
       " -2.6271e-02 -8.1591e-03 -2.9560e-02\n",
       " -3.3923e-02 -2.4079e-02 -2.2005e-02\n",
       " -3.4229e-02 -2.6150e-02 -1.4213e-02\n",
       "[torch.FloatTensor of size 512x512x3x3]"
      ]
     },
     "execution_count": 6,
     "metadata": {},
     "output_type": "execute_result"
    }
   ],
   "source": [
    "A = model.features[28].weight"
   ]
  },
  {
   "cell_type": "code",
   "execution_count": 7,
   "metadata": {
    "collapsed": true
   },
   "outputs": [],
   "source": [
    "A = {}\n"
   ]
  },
  {
   "cell_type": "code",
   "execution_count": 8,
   "metadata": {
    "collapsed": true
   },
   "outputs": [],
   "source": [
    "A[13] = 'hello'"
   ]
  },
  {
   "cell_type": "code",
   "execution_count": 9,
   "metadata": {},
   "outputs": [
    {
     "data": {
      "text/plain": [
       "{13: 'hello'}"
      ]
     },
     "execution_count": 9,
     "metadata": {},
     "output_type": "execute_result"
    }
   ],
   "source": [
    "A\n"
   ]
  },
  {
   "cell_type": "code",
   "execution_count": 10,
   "metadata": {},
   "outputs": [
    {
     "data": {
      "text/plain": [
       "'hello'"
      ]
     },
     "execution_count": 10,
     "metadata": {},
     "output_type": "execute_result"
    }
   ],
   "source": [
    "A[13]"
   ]
  },
  {
   "cell_type": "code",
   "execution_count": 26,
   "metadata": {},
   "outputs": [],
   "source": [
    "x = torch.Tensor([[1, 2, 3], [4, 5, 6], [7, 8, 9]])\n",
    "y = torch.Tensor([10, 20, 30])\n"
   ]
  },
  {
   "cell_type": "code",
   "execution_count": 27,
   "metadata": {},
   "outputs": [
    {
     "data": {
      "text/plain": [
       "\n",
       " 10  20  30\n",
       "[torch.FloatTensor of size 1x3]"
      ]
     },
     "execution_count": 27,
     "metadata": {},
     "output_type": "execute_result"
    }
   ],
   "source": [
    "x.narrow(0,0,1).copy_(y)\n"
   ]
  },
  {
   "cell_type": "code",
   "execution_count": 28,
   "metadata": {},
   "outputs": [
    {
     "data": {
      "text/plain": [
       "\n",
       " 10  20  30\n",
       "  4   5   6\n",
       "  7   8   9\n",
       "[torch.FloatTensor of size 3x3]"
      ]
     },
     "execution_count": 28,
     "metadata": {},
     "output_type": "execute_result"
    }
   ],
   "source": [
    "x"
   ]
  },
  {
   "cell_type": "code",
   "execution_count": null,
   "metadata": {
    "collapsed": true
   },
   "outputs": [],
   "source": []
  }
 ],
 "metadata": {
  "kernelspec": {
   "display_name": "Python 2",
   "language": "python",
   "name": "python2"
  },
  "language_info": {
   "codemirror_mode": {
    "name": "ipython",
    "version": 2
   },
   "file_extension": ".py",
   "mimetype": "text/x-python",
   "name": "python",
   "nbconvert_exporter": "python",
   "pygments_lexer": "ipython2",
   "version": "2.7.13"
  }
 },
 "nbformat": 4,
 "nbformat_minor": 2
}
